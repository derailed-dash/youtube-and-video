{
 "cells": [
  {
   "cell_type": "markdown",
   "metadata": {},
   "source": [
    "# Dazbo's YouTube and Video Demos - with Google Gemini\n",
    "\n",
    "## Overview\n",
    "\n",
    "Welcome to notebook #2 in this tutorial guide. This notebook follows on from [YouTube and Video Demos #1](youtube-demos.ipynb). In the previous notebook I demonstrated:\n",
    "\n",
    "- Multiple methods for downloading videos and extracting audio\n",
    "- How to transcribe audio to text using a free speech-to-text API\n",
    "- How to extract existing transcripts and translate to different languages\n",
    "\n",
    "In this part we'll strip out parts of the first notebook we don't need, and add some smarts using Google technology.\n",
    "\n",
    "## How to Launch and Run this Notebook\n",
    "\n",
    "- The source for this notebook source lives in my GitHub repo, <a href=\"https://github.com/derailed-dash/youtube-and-video\" target=\"_blank\">Youtube-and-Video</a>.\n",
    "- Check out further guidance - including tips on how to run the notebook - in the project's `README.md`.\n",
    "- For example, you could...\n",
    "  - Run the notebook locally, in your own Jupyter environment.\n",
    "  - Run the notebook in a cloud-based Jupyter environment, with no setup required on your part! For example, with **Google Colab**: <br><br><a href=\"https://colab.research.google.com/github/derailed-dash/youtube-and-video/blob/main/src/notebooks/youtube-demos-with-google-gemini.ipynb\" target=\"_blank\"><img src=\"https://colab.research.google.com/assets/colab-badge.svg\" alt=\"Google Colab\"/></a><br><br>It looks like this:<br><br><img src=\"static/images/collab-view.png\" width=\"640px\"></img>\n",
    "- For more ways to run Jupyter Notebooks, check out [my guide](https://medium.com/python-in-plain-english/five-ways-to-run-jupyter-labs-and-notebooks-23209f71e5c0).\n",
    "\n",
    "**When running this notebook, first execute the cells in the [Setup](#Setup) section, as described below.** Then you can experiment with any of the subsequent cells.\n"
   ]
  },
  {
   "cell_type": "markdown",
   "metadata": {},
   "source": [
    "## Setup"
   ]
  },
  {
   "cell_type": "markdown",
   "metadata": {},
   "source": [
    "### Packages\n",
    "\n",
    "First, let's install any dependent packages:"
   ]
  },
  {
   "cell_type": "code",
   "execution_count": null,
   "metadata": {},
   "outputs": [],
   "source": [
    "%pip install --upgrade --no-cache-dir python-dotenv \\\n",
    "                                      dazbo-commons \\\n",
    "                                      pytubefix"
   ]
  },
  {
   "cell_type": "code",
   "execution_count": null,
   "metadata": {},
   "outputs": [],
   "source": [
    "import IPython\n",
    "from IPython.display import display, Markdown\n",
    "\n",
    "import io\n",
    "import logging\n",
    "import os\n",
    "import re\n",
    "import sys\n",
    "from pathlib import Path\n",
    "from dataclasses import dataclass\n",
    "from dotenv import load_dotenv\n",
    "import dazbo_commons as dc\n"
   ]
  },
  {
   "cell_type": "code",
   "execution_count": null,
   "metadata": {},
   "outputs": [],
   "source": [
    "import dazbo_commons as dc\n",
    "# Colab requires an older version of Ipykernel\n",
    "if not \"google.colab\" in sys.modules:\n",
    "    pass\n",
    "    %pip install --upgrade --no-cache-dir ipykernel\n",
    "    "
   ]
  },
  {
   "cell_type": "markdown",
   "metadata": {},
   "source": [
    "### Logging\n",
    "\n",
    "Now we'll setup logging. Here I'm using coloured logging from my [dazbo-commons](https://pypi.org/project/dazbo-commons/) package. Feel free to change the logging level."
   ]
  },
  {
   "cell_type": "code",
   "execution_count": null,
   "metadata": {},
   "outputs": [],
   "source": [
    "# Setup logging\n",
    "APP_NAME=\"dazbo-yt-demos\"\n",
    "logger = dc.retrieve_console_logger(APP_NAME)\n",
    "logger.setLevel(logging.DEBUG)\n",
    "logger.info(\"Logger initialised.\")\n",
    "logger.debug(\"DEBUG level logging enabled.\")"
   ]
  },
  {
   "cell_type": "markdown",
   "metadata": {},
   "source": [
    "### File Locations\n",
    "\n",
    "Here we initialise some file path locations, e.g. an output folder."
   ]
  },
  {
   "cell_type": "code",
   "execution_count": null,
   "metadata": {},
   "outputs": [],
   "source": [
    "locations = dc.get_locations(APP_NAME)\n",
    "for attribute, value in vars(locations).items():\n",
    "    logger.debug(f\"{attribute}: {value}\")"
   ]
  },
  {
   "cell_type": "markdown",
   "metadata": {},
   "source": [
    "### Utility Functions"
   ]
  },
  {
   "cell_type": "code",
   "execution_count": null,
   "metadata": {},
   "outputs": [],
   "source": [
    "def clean_filename(filename):\n",
    "    \"\"\" Create a clean filename by removing unallowed characters. \"\"\"\n",
    "    pattern = r'[^a-zA-Z0-9._\\s-]'\n",
    "    return  re.sub(pattern, '_', filename)"
   ]
  },
  {
   "cell_type": "markdown",
   "metadata": {},
   "source": [
    "### Videos to Work With\n",
    "\n",
    "We start by defining a list of videos to test our application with, along with a function that takes a full YouTube URL and returns just the id portion.\n",
    "\n",
    "I’ve used these videos because…\n",
    "\n",
    "- The first is the fantastic [Burning Bridges](https://www.youtube.com/watch?v=udRAIF6MOm8) by Sigrid. The video has no embedded transcript.\n",
    "- The second is the beautiful song [I Believe](https://www.youtube.com/watch?v=CiTn4j7gVvY) by Melissa Hollick. It’s one of my favourite songs of all time. When I get a migraine, I turn off the lights, and listen to this to feel better! And for those who enjoy gaming, this song is the end titles to the amazing Wolfenstein: New Order game. This video has an embedded transcript.\n",
    "- Then we have a short [Jim Carey speech](https://www.youtube.com/watch?v=nLgHNu2N3JU), which gives us dialog without music or other ambient noise. It has an embedded transcript.\n",
    "- And finally, a [Ukrainian song](https://www.youtube.com/watch?v=d4N82wPpdg8) from Eurovision 2024, by Jerry Heil and Alyona Alyona. This gives us an opportunity to test translation. It also has an embedded transcript."
   ]
  },
  {
   "cell_type": "code",
   "execution_count": null,
   "metadata": {},
   "outputs": [],
   "source": [
    "# Videos to download\n",
    "urls = [\n",
    "    \"https://www.youtube.com/watch?v=udRAIF6MOm8\",  # Sigrid - Burning Bridges (English)\n",
    "    \"https://www.youtube.com/watch?v=CiTn4j7gVvY\",  # Melissa Hollick - I Believe (English)\n",
    "    \"https://www.youtube.com/watch?v=nLgHNu2N3JU\",  # Jim Carey - Motivational speech (English)\n",
    "    \"https://www.youtube.com/watch?v=d4N82wPpdg8\",  # Jerry Heil & Alyona Alyona - Teresa & Maria (Ukrainian)\n",
    "]\n",
    "\n",
    "def get_video_id(url: str) -> str:\n",
    "    \"\"\" Return the video ID, which is the part after 'v=' \"\"\"\n",
    "    return url.split(\"v=\")[-1]\n",
    "\n",
    "output_locn = f\"{locations.output_dir}/pytubefix\""
   ]
  },
  {
   "cell_type": "markdown",
   "metadata": {},
   "source": [
    "## Downloading Videos and Extracting Audio\n",
    "\n",
    "Let's use the [pytubefix](https://github.com/JuanBindez/pytubefix) library to download YouTube videos, and then to download mp3 audio-only streams as files.\n",
    "\n",
    "This library is a community-maintained fork of `pytube`. It was created to provide quick fixes for issues that the official pytube library faced, particularly when YouTube's updates break `pytube`."
   ]
  },
  {
   "cell_type": "code",
   "execution_count": null,
   "metadata": {},
   "outputs": [],
   "source": [
    "\n",
    "from pytubefix import YouTube\n",
    "from pytubefix.cli import on_progress\n",
    "\n",
    "def process_yt_videos():\n",
    "    for i, url in enumerate(urls):\n",
    "        logger.info(f\"Downloads progress: {i+1}/{len(urls)}\")\n",
    "\n",
    "        try:\n",
    "            yt = YouTube(url, on_progress_callback=on_progress)\n",
    "            logger.info(f\"Getting: {yt.title}\")\n",
    "            video_stream = yt.streams.get_highest_resolution()\n",
    "            if not video_stream:\n",
    "                raise Exception(\"Stream not available.\")\n",
    "            \n",
    "            # YouTube resource titles may contain special characters which \n",
    "            # can't be used when saving the file. So we need to clean the filename.\n",
    "            cleaned = clean_filename(yt.title)\n",
    "            \n",
    "            video_output = f\"{output_locn}/{cleaned}.mp4\"\n",
    "            logger.info(f\"Downloading video {cleaned}.mp4 ...\")\n",
    "            video_stream.download(output_path=output_locn, filename=f\"{cleaned}\")\n",
    "        \n",
    "            logger.info(f\"Creating audio...\")\n",
    "            audio_stream = yt.streams.get_audio_only()\n",
    "            audio_stream.download(output_path=output_locn, filename=cleaned, mp3=True)\n",
    "            \n",
    "            logger.info(\"Done\")\n",
    "            \n",
    "        except Exception as e:        \n",
    "            logger.error(f\"Error processing URL '{url}'.\")\n",
    "            logger.debug(f\"The cause was: {e}\") \n",
    "            \n",
    "    logger.info(f\"Downloads finished. See files in {output_locn}.\")\n",
    "    \n",
    "process_yt_videos()\n"
   ]
  },
  {
   "cell_type": "markdown",
   "metadata": {},
   "source": [
    "## Extract Existing Transcripts from Videos\n",
    "\n",
    "Now I'm going to use the [youtube-transcript-api](https://github.com/jdepoix/youtube-transcript-api) to extract existing transcripts from YouTube videos. Not only will it return the transcript, but it can also be used to translate those to translate those transcripts into other languages.  So now I can download my Ukrainian song, and see both the Ukrainian transcript and the English translation. This is pretty awesome!\n",
    "\n",
    "However, some videos do not contain transcripts."
   ]
  },
  {
   "cell_type": "code",
   "execution_count": null,
   "metadata": {},
   "outputs": [],
   "source": [
    "%pip install --upgrade --no-cache-dir youtube_transcript_api"
   ]
  },
  {
   "cell_type": "code",
   "execution_count": null,
   "metadata": {},
   "outputs": [],
   "source": [
    "import youtube_transcript_api as yt_api\n",
    "from pytubefix import YouTube\n",
    "from pytubefix.cli import on_progress\n",
    "\n",
    "def get_transcripts():\n",
    "    \"\"\" Extract existing transcript data from videos \"\"\"\n",
    "    for url in urls:\n",
    "        try: # Just so we can get the video title\n",
    "            yt = YouTube(url, on_progress_callback=on_progress)\n",
    "        except Exception as e:        \n",
    "            logger.error(f\"Error processing URL '{url}'.\")\n",
    "            logger.debug(f\"The cause was: {e}\") \n",
    "            continue\n",
    "        \n",
    "        logger.info(f\"Processing '{yt.title}'...\")\n",
    "        video_id = get_video_id(url)\n",
    "        \n",
    "        try:\n",
    "            # By default, we get a list of 1: only get the preferred language transcript\n",
    "            transcript_list = yt_api.YouTubeTranscriptApi.list_transcripts(video_id)\n",
    "        except Exception as e:\n",
    "            logger.error(f\"Unable to extract transcript for '{yt.title}'.\")\n",
    "            logger.debug(e)\n",
    "            continue\n",
    "        \n",
    "        # iterate over all available transcripts\n",
    "        for transcript in transcript_list:\n",
    "            # The Transcript object provides metadata properties. Here are some...\n",
    "            properties = {\n",
    "                \"video_id\": transcript.video_id,\n",
    "                \"language\": transcript.language,\n",
    "                \"language_code\": transcript.language_code,\n",
    "                \"is_generated\": transcript.is_generated,  # Whether it has been manually created or generated by YouTube\n",
    "                \"is_translatable\": transcript.is_translatable,  # Whether this transcript can be translated or not\n",
    "                \"translation_languages\": transcript.translation_languages,\n",
    "            }\n",
    "            \n",
    "            for prop, value in properties.items():\n",
    "                logger.info(f\"{prop}: {value}\")\n",
    "\n",
    "            # Fetch the actual transcript data\n",
    "            transcript_data = transcript.fetch() # returns a list of dicts\n",
    "            logger.info(f\"Raw transcript:\\n{transcript_data}\") \n",
    "            \n",
    "            processed_transcript = process_transcript(transcript_data)\n",
    "            logger.info(f\"Processed transcript:\\n{processed_transcript}\")\n",
    "            \n",
    "            # Translate to en if we can\n",
    "            if (transcript.language_code != \"en\" and \n",
    "                    transcript.is_translatable and \n",
    "                    any(lang['language_code'] == 'en' for lang in transcript.translation_languages)):\n",
    "                transcript_data = transcript.translate('en').fetch() # translate to en\n",
    "                processed_transcript = process_transcript(transcript_data)\n",
    "                logger.info(f\"Processed translated transcript:\\n{processed_transcript}\")\n",
    "\n",
    "def process_transcript(transcript_data):\n",
    "    \"\"\" Get all entries that are of type 'text' and NOT starting with [ \"\"\"\n",
    "    return \"\\n\".join([entry['text'] for entry in transcript_data \n",
    "                                     if entry['text'][0] != \"[\"])\n",
    "                \n",
    "get_transcripts()"
   ]
  },
  {
   "cell_type": "markdown",
   "metadata": {},
   "source": [
    "How cool is this!?"
   ]
  },
  {
   "cell_type": "markdown",
   "metadata": {},
   "source": [
    "## Adding Google Cloud Smarts\n",
    "\n",
    "Now we're going to leverage Google Cloud APIs. In order to leverage these Google services, you'll need to have first created a Google Cloud project.\n",
    "\n",
    "### How to Consume Google Cloud Services from your Notebook\n",
    "\n",
    "Then, in order to give your notebook access to the Google Cloud APIs, you broadly have three options:\n",
    "\n",
    "1. You can build and run your notebook locally.\n",
    "1. You can build and run your notebook in Google Colab.\n",
    "1. You can build and run your notebook in the Google Vertex AI Workbench environment.\n",
    "\n",
    "Let's look at the options..."
   ]
  },
  {
   "cell_type": "markdown",
   "metadata": {},
   "source": [
    "#### Local Notebook\n",
    "\n",
    "For local development - e.g. a Jupyter notebook running in your own machine - you will need to:\n",
    "\n",
    "1. Have the Google Cloud `gcloud CLI` installed. See instructions [here](https://cloud.google.com/sdk/docs/install).\n",
    "2. Authenticate to `gcloud`, so we can externally run `gcloud` commands from the notebook.\n",
    "3. Set your quota project, and set your Application Default Credentials (ADC) by authenticating to your gcloud environment.\n",
    "\n",
    "```bash\n",
    "# From your terminal...\n",
    "export PROJECT_ID = <your project>\n",
    "gcloud auth login # authenticate to gcloud\n",
    "gcloud auth application-default login # set up ADC\n",
    "gcloud auth application-default set-quota-project\n",
    "gcloud config set project $PROJECT_ID\n",
    "```\n",
    "\n",
    "4. Use [Application Default Credentials](https://cloud.google.com/docs/authentication/application-default-credentials) from within the notebook.\n",
    "\n",
    "```python\n",
    "from google.auth import default\n",
    "credentials, _ = default()\n",
    "\n",
    "PROJECT = !gcloud config get-value project\n",
    "PROJECT_ID = PROJECT[0]\n",
    "REGION = \"europe-west2\"\n",
    "\n",
    "# Now use whatever Google services...\n",
    "import vertexai\n",
    "vertexai.init(project=PROJECT_ID, location=LOCATION)\n",
    "```"
   ]
  },
  {
   "cell_type": "markdown",
   "metadata": {},
   "source": [
    "#### Google Colab\n",
    "\n",
    "This is a great way to create and run Jupyter notebooks in the Cloud, and it makes them super-easy to share.\n",
    "\n",
    "The great thing about this approach is that Colab provides native integration to authenticate your user account and provide your Google project details to the Colab environment.\n",
    "\n",
    "Notes:\n",
    "\n",
    "- No don't need to install Google `gcloud CLI` locally. It is pre-installed in the environment.\n",
    "- You can share notebooks using Google Drive, with Drive-based access control.\n",
    "- There are limitations for notebook size, and for notebook runtime instance size.\n",
    "\n",
    "Check out [this guide](https://github.com/GoogleCloudPlatform/devrel-demos/blob/main/other/colab/Using%20Google%20Cloud%20from%20Colab.ipynb).\n",
    "\n",
    "For example, in your notebook:\n",
    "\n",
    "```python\n",
    "import sys\n",
    "import vertexai\n",
    "\n",
    "PROJECT = !gcloud config get-value project\n",
    "PROJECT_ID = PROJECT[0]\n",
    "REGION = \"europe-west2\"\n",
    "\n",
    "# Check if we're running in the Colab environment, and if so\n",
    "# Use Colab native authentication to Google Cloud\n",
    "if \"google.colab\" in sys.modules:\n",
    "    from google.colab import auth\n",
    "    auth.authenticate_user()\n",
    "\n",
    "credentials, _ = google.auth.default()\n",
    "\n",
    "# Now use your Google services...\n",
    "vertexai.init(\n",
    "    project=MY_PROJECT,\n",
    "    location=VERTEX_LOCATION,\n",
    "    credentials=credentials\n",
    ")\n",
    "```\n"
   ]
  },
  {
   "cell_type": "markdown",
   "metadata": {},
   "source": [
    "#### Vertex AI Workbench\n",
    "\n",
    "[Vertex AI Workbench](https://cloud.google.com/vertex-ai/docs/workbench/introduction) is Google's most powerful managed enterprise Jupyter notebook hosting service. Is is fully-integrated with the Google Cloud and Vertex AI ecosystem.\n",
    "\n",
    "Notes:\n",
    "\n",
    "- The gcloud CLI is pre-installed in the environment.\n",
    "- The JupyterLab environment is pre-installed.\n",
    "- Access control and sharing is managed by Google Cloud IAM, rather than Google Drive.\n",
    "- Because it is natively integrated with the Google Cloud environment, you don't need to provide any credentials or authenticate. You just need to provide Google project ID and region to any services that require this information. E.g.\n",
    "\n",
    "```python\n",
    "import vertexai\n",
    "\n",
    "PROJECT = !gcloud config get-value project\n",
    "PROJECT_ID = PROJECT[0]\n",
    "REGION = \"europe-west2\"\n",
    "\n",
    "# Go ahead and use your Google services...\n",
    "vertexai.init(project=PROJECT_ID, location=REGION)\n",
    "```"
   ]
  },
  {
   "cell_type": "markdown",
   "metadata": {},
   "source": [
    "### Retrieve Environment Variables\n",
    "\n",
    "I put my environment variables in a `.env` file at the top level of my project. It looks like this...\n",
    "\n",
    "```\n",
    "PYTHONPATH=src;src/notebooks\n",
    "\n",
    "PROJECT_ID=my-project-id\n",
    "REGION=my-region\n",
    "```"
   ]
  },
  {
   "cell_type": "code",
   "execution_count": null,
   "metadata": {},
   "outputs": [],
   "source": [
    "import sys\n",
    "from getpass import getpass\n",
    "\n",
    "# Retrieve PROJECT_ID and other variables from any .env we can find\n",
    "try:\n",
    "    dc.get_envs_from_file()\n",
    "except ValueError as e:\n",
    "    logger.error(f\"Problem reading env file:\\n{e}\")\n",
    "\n",
    "env_vars = [\"PROJECT_ID\", \"REGION\"] # The vars we want to retrieve\n",
    "for env_var in env_vars:\n",
    "    if not os.getenv(env_var):\n",
    "        PROJECT_ID = '' # @param {type: \"string\"}\n",
    "        # If not retrieved from .env we'll need to input the value\n",
    "        os.environ[env_var] = getpass(f\"Enter {env_var}: \")\n",
    "\n",
    "    # Set Python variable of the same name as the env var, e.g. \n",
    "    # set PROJECT_ID and REGION\n",
    "    globals()[env_var] = os.environ[env_var]\n",
    "    val = globals()[env_var]\n",
    "    logger.info(f\"{env_var} retrieved: {val}\")\n",
    "    "
   ]
  },
  {
   "cell_type": "markdown",
   "metadata": {},
   "source": [
    "### Clear Environment Variables\n",
    "\n",
    "**Only run the next cell if you want to manually clear the environment variables** and then input new values. In this scenario, you'll also want to comment out any variables in your .env file."
   ]
  },
  {
   "cell_type": "code",
   "execution_count": null,
   "metadata": {},
   "outputs": [],
   "source": [
    "# Only run this if we want to clear env vars\n",
    "for env_var in env_vars:\n",
    "    if env_var in os.environ:\n",
    "        del os.environ[env_var]\n",
    "        logger.info(f\"Cleared environment variable: {env_var}\")"
   ]
  },
  {
   "cell_type": "markdown",
   "metadata": {},
   "source": [
    "### A Notebook we can Run in ANY Environment\n",
    "\n",
    "Let's engineer the notebook to be agnostic of where it is hosted."
   ]
  },
  {
   "cell_type": "code",
   "execution_count": null,
   "metadata": {},
   "outputs": [],
   "source": [
    "# Don't forget to enable Cloud Storage API (storage.googleapis.com) \n",
    "%pip install google-auth google-auth-oauthlib google-auth-httplib2 google-cloud-storage "
   ]
  },
  {
   "cell_type": "code",
   "execution_count": null,
   "metadata": {},
   "outputs": [],
   "source": [
    "from google.auth import default\n",
    "from google.auth.exceptions import DefaultCredentialsError\n",
    "from google.cloud import storage # Enable \n",
    "\n",
    "# If we're running Google Colab, authenticate\n",
    "if \"google.colab\" in sys.modules:\n",
    "    from google.colab import auth\n",
    "    auth.authenticate_user()\n",
    "else:\n",
    "    # Be sure to set ADC if not running Vertex AI\n",
    "    # E.g. gcloud auth application-default login\n",
    "    pass\n",
    "\n",
    "try:\n",
    "    credentials, _ = default()\n",
    "    !gcloud config set project $PROJECT_ID\n",
    "except DefaultCredentialsError as e:\n",
    "    logger.error(e)\n"
   ]
  },
  {
   "cell_type": "markdown",
   "metadata": {},
   "source": [
    "### Video Transcription Usng the Video Intelligence API\n",
    "\n",
    "Recall that in the previous notebook, I tried to perform audio trascription using the Python `speech_recognition` package, and the built-in [Google Web Speech API](https://wicg.github.io/speech-api/) `Recognizer`. It wasn't great!\n",
    "\n",
    "So now let's use Google's [Video Intelligence API](https://cloud.google.com/video-intelligence/docs) to perform transcription..."
   ]
  },
  {
   "cell_type": "code",
   "execution_count": null,
   "metadata": {},
   "outputs": [],
   "source": [
    "%pip install google-cloud-videointelligence"
   ]
  },
  {
   "cell_type": "code",
   "execution_count": null,
   "metadata": {},
   "outputs": [],
   "source": [
    "from google.cloud import videointelligence\n",
    "\n",
    "MIN_CONFIDENCE = 0.65 # Set a threshold for minimum acceptable API confidence in the transcription\n",
    "\n",
    "video_client = videointelligence.VideoIntelligenceServiceClient()\n",
    "\n",
    "# This API can do loads of things. Here I'll tell it to do speech transcription.\n",
    "features = [videointelligence.Feature.SPEECH_TRANSCRIPTION]\n",
    "config = videointelligence.SpeechTranscriptionConfig(\n",
    "    language_code=\"en-US\", enable_automatic_punctuation=True\n",
    ")\n",
    "video_context = videointelligence.VideoContext(speech_transcription_config=config)\n",
    "\n",
    "# Fortunately, this API natively supports mp4 without any conversion\n",
    "logger.debug(f\"Looking for videos in {output_locn}...\")\n",
    "for video in Path(output_locn).glob(f'*.mp4'):\n",
    "    logger.info(f\"Processing {video.name}...\")\n",
    "\n",
    "    try:\n",
    "        with io.open(video, \"rb\") as file:\n",
    "            input_content = file.read()\n",
    "            \n",
    "        operation = video_client.annotate_video(\n",
    "            request={\n",
    "                \"features\": features,\n",
    "                \"input_content\": input_content, # for lcoal\n",
    "                # \"input_uri\": path, # for objects in GCS\n",
    "                \"video_context\": video_context,\n",
    "            }\n",
    "        )\n",
    "\n",
    "        result = operation.result(timeout=600)\n",
    "\n",
    "        # There is only one annotation_result per video.\n",
    "        annotation_results = result.annotation_results[0]\n",
    "        complete_transcript = \"\"\n",
    "        for speech_transcription in annotation_results.speech_transcriptions:\n",
    "            # Each SpeechTranscription can contain multiple alternatives.\n",
    "            # Each alternative is a different possible transcription and has its own confidence score.\n",
    "            # They are ordered in terms of accuracy. So we really only need the first.\n",
    "            part = speech_transcription.alternatives[0]\n",
    "            if part.confidence < MIN_CONFIDENCE:\n",
    "                logger.debug(f\"Ignoring transcript alternative with confidence of {part.confidence}.\")\n",
    "                continue\n",
    "                \n",
    "            logger.debug(\"Part transcript: {}\".format(part.transcript))\n",
    "            logger.debug(\"Part confidence: {}\\n\".format(part.confidence))\n",
    "            complete_transcript += part.transcript.strip() + \"\\n\"\n",
    "                \n",
    "        complete_transcript.strip()\n",
    "        if complete_transcript:\n",
    "            logger.info(f\"Complete transcript:\\n{complete_transcript}\")\n",
    "        else:\n",
    "            logger.warning(\"Could not retrieve high-confidence transcript.\")\n",
    "\n",
    "    except Exception as e:\n",
    "       logger.error(e)"
   ]
  },
  {
   "cell_type": "markdown",
   "metadata": {},
   "source": [
    "### Conclusions\n",
    "\n",
    "It's pretty amazing!\n",
    "\n",
    "- It's reliable and doesn't give random _pipe_ errors.\n",
    "- It transcribes with much higher accuracy than the Python `speech_recognition` package using the Google Web Speech API `Recognizer`.\n",
    "- We don't need to split the video into chunks.\n",
    "- The API provides an estimate of transcription accuracy. And we can use this to filter out transcriptions that we don't want to keep.\n",
    "\n",
    "Some minor issues:\n",
    "\n",
    "1. It takes a long time to process each video.\n",
    "2. It doesn't automatically detect the source language. So it fails with the Ukrainian music video.\n",
    "\n",
    "What to do?"
   ]
  },
  {
   "cell_type": "markdown",
   "metadata": {},
   "source": [
    "### Speech-to-Text from Audio\n",
    "\n",
    "We can use Google [Speech-to-Text](https://cloud.google.com/speech-to-text/docs/sync-recognize) to detect the detect the language, and transcribe the audio to text.\n",
    "\n",
    "Benefits of this approach:\n",
    "\n",
    "- We can work from the audio files, so the data is much smaller.\n",
    "- It is faster.\n",
    "- If you end up calling the API a lot and cost becomes a factor, this will be cheaper.\n",
    "- This API automatically detects the source language.\n",
    "\n",
    "Let's give it a go!\n",
    "\n",
    "First, enable the [Speech-to-Text API](https://console.developers.google.com/apis/api/speech.googleapis.com/overview?project=video-smarts-442000) (`speech.googleapis.com`) in your project.\n",
    "\n",
    "Next: to process audio files longer than 1 minute in length, this API requires us to store our audio files in Google Cloud Storage (GCS).  So let's create a GCS bucket for this purpose.\n",
    "\n",
    "#### Create the Bucket"
   ]
  },
  {
   "cell_type": "code",
   "execution_count": null,
   "metadata": {},
   "outputs": [],
   "source": [
    "BUCKET_NAME = f\"{PROJECT_ID}-bucket\"\n",
    "BUCKET_URI = f\"gs://{BUCKET_NAME}\"\n",
    "\n",
    "bucket_check = !gcloud storage ls $BUCKET_URI\n",
    "bucket_exists = True\n",
    "for line in bucket_check:\n",
    "    if \"404\" in line:\n",
    "        bucket_exists = False\n",
    "        break\n",
    "        \n",
    "if not bucket_exists:\n",
    "    logger.info(f\"Creating bucket {BUCKET_URI}\")\n",
    "    ! gcloud storage buckets create {BUCKET_URI} --location={REGION}\n",
    "else:\n",
    "    logger.info(f\"{BUCKET_URI} already exists.\")\n"
   ]
  },
  {
   "cell_type": "markdown",
   "metadata": {},
   "source": [
    "#### Use the Speech-to-Text API"
   ]
  },
  {
   "cell_type": "code",
   "execution_count": null,
   "metadata": {},
   "outputs": [],
   "source": [
    "%pip install google-cloud-speech"
   ]
  },
  {
   "cell_type": "code",
   "execution_count": null,
   "metadata": {},
   "outputs": [],
   "source": [
    "\n",
    "from google.cloud import speech\n",
    "\n",
    "AUDIO_FILES_FOLDER = \"audio\"\n",
    "\n",
    "def transcribe_local_file(audio_file: str) -> speech.RecognizeResponse:\n",
    "    \"\"\"Transcribe the given audio file. Only works with files up to 60s.\n",
    "    Args:\n",
    "        audio_file (str): Path to the local audio file to be transcribed.\n",
    "            Example: \"resources/audio.wav\"\n",
    "    Returns:\n",
    "        cloud_speech.RecognizeResponse: The response containing the transcription results\n",
    "    \"\"\"\n",
    "    client = speech.SpeechClient()\n",
    "\n",
    "    FIRST_LANG = \"en-US\"\n",
    "    SECOND_LANG = \"uk-ua\"\n",
    "\n",
    "    with open(audio_file, \"rb\") as f:\n",
    "        audio_content = f.read()\n",
    "\n",
    "    audio = speech.RecognitionAudio(content=audio_content)\n",
    "    config = speech.RecognitionConfig(\n",
    "        encoding=speech.RecognitionConfig.AudioEncoding.LINEAR16,\n",
    "        sample_rate_hertz=16000,\n",
    "        language_code=FIRST_LANG,\n",
    "        alternative_language_codes=[SECOND_LANG],\n",
    "    )\n",
    "\n",
    "    response = client.recognize(config=config, audio=audio)\n",
    "\n",
    "    # Each result is for a consecutive portion of the audio. Iterate through\n",
    "    # them to get the transcripts for the entire audio file.\n",
    "    for result in response.results:\n",
    "        # The first alternative is the most likely one for this portion.\n",
    "        print(f\"Transcript: {result.alternatives[0].transcript}\")\n",
    "\n",
    "    return response\n",
    "\n",
    "def transcribe_long_audio(gcs_uri: str) -> str:\n",
    "    \"\"\"\n",
    "    Asynchronously transcribes the audio file from Cloud Storage.\n",
    "    For long audio (>60s) we have to store the file in GCS.\n",
    "    \n",
    "    Args:\n",
    "        gcs_uri: The Google Cloud Storage path to an audio file.\n",
    "                 E.g., \"gs://storage-bucket/file.flac\".\n",
    "    Returns:\n",
    "        The generated transcript from the audio file provided.\n",
    "    \"\"\"\n",
    "    client = speech.SpeechClient()\n",
    "\n",
    "    FIRST_LANG = \"en-US\"\n",
    "    SECOND_LANG = \"uk-ua\"\n",
    "\n",
    "    with open(audio_file, \"rb\") as f:\n",
    "        audio_content = f.read()\n",
    "\n",
    "    audio = speech.RecognitionAudio(content=audio_content)\n",
    "    config = speech.RecognitionConfig(\n",
    "        encoding=speech.RecognitionConfig.AudioEncoding.LINEAR16,\n",
    "        sample_rate_hertz=16000,\n",
    "        language_code=FIRST_LANG,\n",
    "        alternative_language_codes=[SECOND_LANG],\n",
    "    )\n",
    "    \n",
    "    operation = client.long_running_recognize(config=config, audio=audio)\n",
    "    logger.debug(\"Waiting for operation to complete...\")\n",
    "    response = operation.result(timeout=90)\n",
    "\n",
    "    transcript_builder = []\n",
    "    # Each result is for a consecutive portion of the audio. Iterate through\n",
    "    # them to get the transcripts for the entire audio file.\n",
    "    for result in response.results:\n",
    "        # The first alternative is the most likely one for this portion.\n",
    "        transcript_builder.append(f\"\\nTranscript: {result.alternatives[0].transcript}\")\n",
    "        transcript_builder.append(f\"\\nConfidence: {result.alternatives[0].confidence}\")\n",
    "\n",
    "    transcript = \"\".join(transcript_builder)\n",
    "    print(transcript)\n",
    "\n",
    "    return transcript\n",
    "\n",
    "def upload_to_gcs(bucket:str, src_file, dest_name):\n",
    "    \"\"\"Uploads a file to GCS.\"\"\"\n",
    "    try:\n",
    "        storage_client = storage.Client()\n",
    "        bucket = storage_client.bucket(bucket)\n",
    "        \n",
    "        # Destination blob name\n",
    "        blob_name = dest_name \n",
    "        blob = bucket.blob(blob_name)\n",
    "        logger.info(f\"Uploading {src_file} to gs://{bucket}/{blob_name}\")\n",
    "        blob.upload_from_filename(src_file) \n",
    "        \n",
    "        return f\"gs://{bucket}/{blob_name}\" # Return the full GCS URI\n",
    "    except Exception as e:\n",
    "        logger.exception(f\"Error uploading {src_file} to GCS: {e}\")\n",
    "        return None # Or raise the exception if you want to stop processing\n",
    "\n",
    "for audio_file in Path(output_locn).glob(f'*.m4a'):\n",
    "    response = upload_to_gcs(BUCKET_NAME, \n",
    "                             src_file=audio_file, \n",
    "                             dest_name=f\"{AUDIO_FILES_FOLDER}/{audio_file.name}\")\n",
    "    # response = transcribe_file(audio_file)\n",
    "    "
   ]
  },
  {
   "cell_type": "markdown",
   "metadata": {},
   "source": [
    "## Vertex AI\n",
    "\n",
    "Let's integrate some Google Cloud Vertex AI smarts. Start by installing the **Google Cloud Vertex AI SDK for Python**. \n",
    "\n",
    "From [Introduction to the Vertex AI SDK for Python](https://cloud.google.com/vertex-ai/docs/python-sdk/use-vertex-ai-python-sdk#sdk-vs-client-library):\n",
    "\n",
    "When you install the Vertex AI SDK for Python (`google.cloud.aiplatform`), the Vertex AI Python client library (`google.cloud.aiplatform.gapic`) is also installed. The Vertex AI SDK and the Vertex AI Python client library provide similar functionality with different levels of granularity. The Vertex AI SDK operates at a higher level of abstraction than the client library and is suitable for most common data science workflows. If you need lower-level functionality, then use the Vertex AI Python client library."
   ]
  },
  {
   "cell_type": "code",
   "execution_count": null,
   "metadata": {},
   "outputs": [],
   "source": [
    "# Install Vertex AI SDK for Python and Vertex Generative AI SDK for Python\n",
    "%pip install --upgrade google-cloud-aiplatform \\\n",
    "                       google-generativeai"
   ]
  },
  {
   "cell_type": "code",
   "execution_count": null,
   "metadata": {},
   "outputs": [],
   "source": [
    "from google.cloud import aiplatform # Google Cloud Vertex AI SDK for Python\n",
    "# import vertexai   # Google Cloud Vertex Generative AI SDK for Python\n",
    "import google.generativeai as genai  # Google Gemini API (GenAI)\n",
    "from vertexai.generative_models import GenerativeModel"
   ]
  }
 ],
 "metadata": {
  "kernelspec": {
   "display_name": ".venv",
   "language": "python",
   "name": "python3"
  },
  "language_info": {
   "codemirror_mode": {
    "name": "ipython",
    "version": 3
   },
   "file_extension": ".py",
   "mimetype": "text/x-python",
   "name": "python",
   "nbconvert_exporter": "python",
   "pygments_lexer": "ipython3",
   "version": "3.11.9"
  }
 },
 "nbformat": 4,
 "nbformat_minor": 4
}
